{
 "cells": [
  {
   "cell_type": "code",
   "execution_count": 44,
   "metadata": {
    "id": "Df4jcOSIl6bw"
   },
   "outputs": [],
   "source": [
    "import math\n",
    "import numpy as np"
   ]
  },
  {
   "cell_type": "markdown",
   "metadata": {
    "id": "7fnopGEwkdOr"
   },
   "source": [
    "# Question 1: Compute the Euclidean distance between vector $V_1$ and $V_2$. Store the answer in variable d. Show screenshot\\\\photograph of your calculation\n",
    "\n",
    "$V_1 = \\{2, -3, 5\\}$ and $V_2 = \\{6, 2, 1\\}$"
   ]
  },
  {
   "cell_type": "code",
   "execution_count": 45,
   "metadata": {
    "id": "veR7KvHgkyha"
   },
   "outputs": [
    {
     "name": "stdout",
     "output_type": "stream",
     "text": [
      "7.54983443527075\n"
     ]
    }
   ],
   "source": [
    "V1 = [2, -3, 5] \n",
    "V2 = [6, 2, 1]\n",
    "d  = math.sqrt((V2[0] - V1[0])**2 + (V2[1] - V1[1])**2 + (V2[2] - V1[2])**2)\n",
    "print(d)"
   ]
  },
  {
   "cell_type": "code",
   "execution_count": 46,
   "metadata": {
    "id": "eBOZwZn_mCiX"
   },
   "outputs": [
    {
     "data": {
      "text/plain": [
       "True"
      ]
     },
     "execution_count": 46,
     "metadata": {},
     "output_type": "execute_result"
    }
   ],
   "source": [
    "def grader1(d, tol=1e-3):\n",
    "    return math.isclose(d, math.sqrt(57), rel_tol=tol)\n",
    "grader1(d)"
   ]
  },
  {
   "cell_type": "markdown",
   "metadata": {
    "id": "MB3mF61SWfnA"
   },
   "source": [
    "![screenshot1](screenshot1.png)"
   ]
  },
  {
   "cell_type": "markdown",
   "metadata": {
    "id": "Y9Wq_TR4mgQs"
   },
   "source": [
    "# Question 2: Find a Unit vector in the direction of $x = \\{6, -8, 0\\}$ and store it in variable 'x' as list. Show screenshot\\\\photograph of your calculation"
   ]
  },
  {
   "cell_type": "code",
   "execution_count": 47,
   "metadata": {
    "id": "fFES_YGmmGcs"
   },
   "outputs": [
    {
     "name": "stdout",
     "output_type": "stream",
     "text": [
      "Magnitude = 10.0\n",
      "Unit vector =[0.6, -0.8, 0.0]\n"
     ]
    }
   ],
   "source": [
    "x1 = [6,-8,0]\n",
    "\n",
    "M = math.sqrt(x1[0]**2 + x1[1]**2 + x1[2]**2)\n",
    "print(f\"Magnitude = {M}\")\n",
    "\n",
    "x = [(i/M) for i in x1] \n",
    "print(f\"Unit vector ={x}\")"
   ]
  },
  {
   "cell_type": "code",
   "execution_count": 48,
   "metadata": {
    "id": "ikF9Ol64nSUX"
   },
   "outputs": [
    {
     "data": {
      "text/plain": [
       "True"
      ]
     },
     "execution_count": 48,
     "metadata": {},
     "output_type": "execute_result"
    }
   ],
   "source": [
    "def grader2(v, tol=1e-3):\n",
    "    cuv = (0.6, -0.8, 0)\n",
    "    return all(math.isclose(v[i], cuv[i], rel_tol=tol) for i in range(3))\n",
    "grader2(x)"
   ]
  },
  {
   "cell_type": "markdown",
   "metadata": {
    "id": "jolj2eTOXvER"
   },
   "source": [
    "![screenshot2](screenshot2.png)"
   ]
  },
  {
   "cell_type": "markdown",
   "metadata": {
    "id": "v4-gOsagvQ3_"
   },
   "source": [
    "# Question 3: Find the determinant of the matrix and store the value in variable a A = \\begin{bmatrix} 3 & 4 & 2 \\\\ 2 & 1 & 5 \\\\ 6 & 0 & -1 \\end{bmatrix}\n",
    "#Show screenshot\\\\photograph of your calculation\n"
   ]
  },
  {
   "cell_type": "code",
   "execution_count": 49,
   "metadata": {
    "id": "M2QDrYDBFQmu"
   },
   "outputs": [
    {
     "name": "stdout",
     "output_type": "stream",
     "text": [
      "Determinant of the matrix = 113\n"
     ]
    }
   ],
   "source": [
    "A = [[3, 4, 2], \n",
    "     [2, 1, 5], \n",
    "     [6, 0, -1]]\n",
    "\n",
    "a = (A[0][0]  * (A[1][1] * A[2][2] - A[1][2] * A[2][1])-\n",
    "     A[0][1] * (A[1][0] * A[2][2] - A[1][2] * A[2][0])+\n",
    "     A[0][2] * (A[1][0] * A[2][1] - A[1][1] * A[2][0]))\n",
    "print(f\"Determinant of the matrix = {a}\")"
   ]
  },
  {
   "cell_type": "code",
   "execution_count": 50,
   "metadata": {
    "id": "oTwztEHlnaqE"
   },
   "outputs": [
    {
     "data": {
      "text/plain": [
       "True"
      ]
     },
     "execution_count": 50,
     "metadata": {},
     "output_type": "execute_result"
    }
   ],
   "source": [
    "def grader3(ans, tol=1e-3):\n",
    "    correct_det = 113\n",
    "    return math.isclose(ans, correct_det, rel_tol=tol)\n",
    "\n",
    "grader3(a)"
   ]
  },
  {
   "cell_type": "markdown",
   "metadata": {
    "id": "0kYkLu-bXxh8"
   },
   "source": [
    "![screenshot3](screenshot3.png)"
   ]
  },
  {
   "cell_type": "markdown",
   "metadata": {
    "id": "ZbccmZ6EPYkL"
   },
   "source": [
    "# Question 4: Compute the inverse ($B^{-1}$) of matrix B and store it in variable b\n",
    "\n",
    "B =\\begin{bmatrix} 2 & -1 \\\\ 1 & 3 \\end{bmatrix}\n",
    "\n",
    "# Show screenshot\\\\photograph of your calculation"
   ]
  },
  {
   "cell_type": "code",
   "execution_count": 51,
   "metadata": {
    "id": "RyoJ5KxSQMiW"
   },
   "outputs": [
    {
     "name": "stdout",
     "output_type": "stream",
     "text": [
      "Dit(B) = 7\n",
      "inverse = [[0.42857142857142855, 0.14285714285714285], [-0.14285714285714285, 0.2857142857142857]]\n"
     ]
    }
   ],
   "source": [
    "B = [[2, -1], \n",
    "     [1, 3]]\n",
    "\n",
    "detB = (B[0][0] * B[1][1]) - (B[0][1] * B[1][0])\n",
    "print(f\"Dit(B) = {detB}\")\n",
    "b = [[B[1][1] / detB, -B[0][1] / detB],\n",
    "     [-B[1][0] / detB, B[0][0] / detB]]\n",
    "print(f\"inverse = {b}\")"
   ]
  },
  {
   "cell_type": "code",
   "execution_count": 52,
   "metadata": {
    "id": "n7KcXDCdnooX"
   },
   "outputs": [
    {
     "data": {
      "text/plain": [
       "True"
      ]
     },
     "execution_count": 52,
     "metadata": {},
     "output_type": "execute_result"
    }
   ],
   "source": [
    "def grader4(B_inv, tol=1e-3):\n",
    "    correct_B_inv = np.array([[3/7, 1/7], [-1/7, 2/7]])\n",
    "    return np.allclose(B_inv, correct_B_inv, rtol=tol)\n",
    "grader4(b)"
   ]
  },
  {
   "cell_type": "markdown",
   "metadata": {
    "id": "tXGNwdewXzsD"
   },
   "source": [
    "![screenshot4](screenshot4.png)"
   ]
  },
  {
   "cell_type": "markdown",
   "metadata": {
    "id": "UnROY1pNQfDx"
   },
   "source": [
    "# Question 5: Compute the dot product value for $V_1 = \\{1, 2, -1\\}$ and $V_2 = \\{3, -6, 2\\}$ and store it in variable dot_prod. Show screenshot\\\\photograph of your calculation"
   ]
  },
  {
   "cell_type": "code",
   "execution_count": 53,
   "metadata": {
    "id": "ayd1TbdHQ3Ay"
   },
   "outputs": [
    {
     "name": "stdout",
     "output_type": "stream",
     "text": [
      "dot product = -11\n"
     ]
    }
   ],
   "source": [
    "V1 = [1, 2, -1]\n",
    "V2 = [3, -6, 2]\n",
    "\n",
    "dot_prod = (V1[0] * V2[0]) + (V1[1] * V2[1]) + (V1[2] * V2[2])\n",
    "print(f\"dot product = {dot_prod}\")"
   ]
  },
  {
   "cell_type": "code",
   "execution_count": 54,
   "metadata": {
    "id": "5AEYqqGAQSAm"
   },
   "outputs": [
    {
     "data": {
      "text/plain": [
       "True"
      ]
     },
     "execution_count": 54,
     "metadata": {},
     "output_type": "execute_result"
    }
   ],
   "source": [
    "def grader5(dot_prod, tol=1e-3):\n",
    "  is_correct = math.isclose(dot_prod, -11, rel_tol=tol)\n",
    "  return is_correct\n",
    "grader5(dot_prod)"
   ]
  },
  {
   "cell_type": "markdown",
   "metadata": {
    "id": "tdToGhvLX1fI"
   },
   "source": [
    "![screenshot5](screenshot5.png)"
   ]
  },
  {
   "cell_type": "markdown",
   "metadata": {
    "id": "w68LFmXbTDzM"
   },
   "source": [
    "# Question 6: Compute the angle between $V_1$ = \\{1, 2\\} and $V_2 = \\{3, 4\\}$ using the dot product formula and store it in variable theta. Show screenshot\\\\photograph of your calculation"
   ]
  },
  {
   "cell_type": "code",
   "execution_count": 55,
   "metadata": {
    "id": "vfv9e19BRXsP"
   },
   "outputs": [
    {
     "name": "stdout",
     "output_type": "stream",
     "text": [
      "\n",
      "Angle = 10.304846468766044\n"
     ]
    }
   ],
   "source": [
    "import math\n",
    "\n",
    "V1 = [1, 2]\n",
    "V2 = [3, 4]\n",
    "\n",
    "dot_product = V1[0] * V2[0] + V1[1] * V2[1]\n",
    "\n",
    "mgt_V1 = math.sqrt(V1[0]**2 + V1[1]**2)\n",
    "mgt_V2 = math.sqrt(V2[0]**2 + V2[1]**2)\n",
    "\n",
    "cos_theta = dot_product / (mgt_V1 * mgt_V2)\n",
    "\n",
    "theta = math.acos(cos_theta)\n",
    "degree = math.degrees(theta)\n",
    "print(f\"Angle = {degree}\")"
   ]
  },
  {
   "cell_type": "code",
   "execution_count": 56,
   "metadata": {
    "id": "ILKYZd1ZTagd"
   },
   "outputs": [
    {
     "data": {
      "text/plain": [
       "True"
      ]
     },
     "execution_count": 56,
     "metadata": {},
     "output_type": "execute_result"
    }
   ],
   "source": [
    "def grader6(theta, tol=1e-3):\n",
    "    correct_theta = math.acos(11 / (math.sqrt(5) * 5))\n",
    "    return math.isclose(theta, correct_theta, rel_tol=tol)\n",
    "\n",
    "grader6(theta)"
   ]
  },
  {
   "cell_type": "markdown",
   "metadata": {
    "id": "BlmqWqrrX4do"
   },
   "source": [
    "![screenshot6](screenshot6.png)"
   ]
  },
  {
   "cell_type": "markdown",
   "metadata": {
    "id": "YCcewJIKX47X"
   },
   "source": [
    "# Question 7: Find the eigenvalues of C = \\begin{bmatrix} 2 & 1 \\\\ 1 & 2 \\end{bmatrix} and store it in variables lamda1 and lambda2.\n",
    "# Show screenshot\\\\photograph of your calculation"
   ]
  },
  {
   "cell_type": "code",
   "execution_count": 57,
   "metadata": {
    "id": "gJeXcQiCTsJc"
   },
   "outputs": [],
   "source": [
    "lambda1= 1\n",
    "lambda2 = 3"
   ]
  },
  {
   "cell_type": "code",
   "execution_count": 58,
   "metadata": {
    "id": "ScOmwG4OYSvf"
   },
   "outputs": [
    {
     "data": {
      "text/plain": [
       "True"
      ]
     },
     "execution_count": 58,
     "metadata": {},
     "output_type": "execute_result"
    }
   ],
   "source": [
    "def grader7(lamda1, lamda2):\n",
    "    c1 = 3\n",
    "    c2 = 1\n",
    "    if (lamda1 == c1 and lamda2 == c2) or \\\n",
    "       (lamda1 == c2 and lamda2 == c1):\n",
    "        return True\n",
    "    else:\n",
    "        return False\n",
    "grader7(lambda1, lambda2)"
   ]
  },
  {
   "cell_type": "markdown",
   "metadata": {
    "id": "WXXTmPVVX-5y"
   },
   "source": [
    "![screenshot7](IMG_20250310_114043.jpg)"
   ]
  },
  {
   "cell_type": "markdown",
   "metadata": {
    "id": "6c4Q4jpudCiy"
   },
   "source": [
    "# Question 8: A box contains 4 red, 3 blue, and 2 green balls. What is the probability of drawing a red or blue ball? store the result in variable p. Show screenshot\\\\photograph of your calculation"
   ]
  },
  {
   "cell_type": "code",
   "execution_count": 59,
   "metadata": {
    "id": "5z_09z0eZOSf"
   },
   "outputs": [
    {
     "name": "stdout",
     "output_type": "stream",
     "text": [
      "0.7777777777777778\n"
     ]
    }
   ],
   "source": [
    "red_balls = 4\n",
    "blue_balls = 3\n",
    "green_balls = 2\n",
    "\n",
    "total_balls = red_balls + blue_balls + green_balls\n",
    "favorable_outcomes = red_balls + blue_balls\n",
    "\n",
    "p = favorable_outcomes / total_balls\n",
    "print(p)"
   ]
  },
  {
   "cell_type": "code",
   "execution_count": 60,
   "metadata": {
    "id": "pn3CbctGdLmy"
   },
   "outputs": [
    {
     "data": {
      "text/plain": [
       "True"
      ]
     },
     "execution_count": 60,
     "metadata": {},
     "output_type": "execute_result"
    }
   ],
   "source": [
    "def grader8(prob):\n",
    "    if abs(prob - 0.7777777777777777777) < 1e-6:\n",
    "        return True\n",
    "    else:\n",
    "        return False\n",
    "grader8(p)"
   ]
  },
  {
   "cell_type": "markdown",
   "metadata": {
    "id": "notlLMv-YBZQ"
   },
   "source": [
    "![screenshot8](screenshot8.png)"
   ]
  },
  {
   "cell_type": "markdown",
   "metadata": {
    "id": "R9XWn-ahDF_z"
   },
   "source": [
    "# Question 9: A test for a disease is 95% accurate, and 1% of people have the disease. If a person tests positive, what is the probability that they actually have the disease? Store the answer in variable p. Show screenshot\\\\photograph of your calculation"
   ]
  },
  {
   "cell_type": "code",
   "execution_count": 61,
   "metadata": {
    "id": "efuMnDKydvrJ"
   },
   "outputs": [],
   "source": [
    "p = .161"
   ]
  },
  {
   "cell_type": "code",
   "execution_count": 62,
   "metadata": {
    "id": "1EB4TqplDNnt"
   },
   "outputs": [
    {
     "data": {
      "text/plain": [
       "True"
      ]
     },
     "execution_count": 62,
     "metadata": {},
     "output_type": "execute_result"
    }
   ],
   "source": [
    "def grader9(p):\n",
    "    if p==0.161:\n",
    "        return True\n",
    "    else:\n",
    "        return False\n",
    "grader9(p)"
   ]
  },
  {
   "cell_type": "markdown",
   "metadata": {
    "id": "V_WmZgkOYDwB"
   },
   "source": [
    "![screenshot9](IMG_20250310_121101.jpg)"
   ]
  },
  {
   "cell_type": "markdown",
   "metadata": {
    "id": "cLj3KYwdElkw"
   },
   "source": [
    "# Question 10: In a class, 70% of students pass math, and 50% pass physics. If 30% pass both, what is the probability that a student who passes math also passes physics?. Store your answer in variable p. Show screenshot\\\\photograph of your calculation"
   ]
  },
  {
   "cell_type": "code",
   "execution_count": 63,
   "metadata": {
    "id": "Ow9DvnGmDwzt"
   },
   "outputs": [],
   "source": [
    "p = .4286"
   ]
  },
  {
   "cell_type": "code",
   "execution_count": 64,
   "metadata": {
    "id": "ZoRAlNOCEuXF"
   },
   "outputs": [
    {
     "data": {
      "text/plain": [
       "True"
      ]
     },
     "execution_count": 64,
     "metadata": {},
     "output_type": "execute_result"
    }
   ],
   "source": [
    "def grader10(p):\n",
    "    if p==0.4286:\n",
    "        return True\n",
    "    else:\n",
    "        return False\n",
    "grader10(p)"
   ]
  },
  {
   "cell_type": "markdown",
   "metadata": {
    "id": "ToM4ggNLYFf0"
   },
   "source": [
    "![screenshot10](q10IMG_20250310_173828.jpg)"
   ]
  },
  {
   "cell_type": "markdown",
   "metadata": {
    "id": "dDD8opa7FjLF"
   },
   "source": [
    "# Question 11: Compute the entropy of a biased coin with P(Heads) = 0.8 and P(Tails) = 0.2. Store your answer in variable e given below. Comment your oberservation about the uncertainity about the situation. Show screenshot\\\\photograph of your calculation"
   ]
  },
  {
   "cell_type": "code",
   "execution_count": 65,
   "metadata": {
    "id": "TlIIgfqGFJ8T"
   },
   "outputs": [
    {
     "name": "stdout",
     "output_type": "stream",
     "text": [
      "0.7219280948873623\n"
     ]
    }
   ],
   "source": [
    "import math\n",
    "e = -(0.8 * math.log2(0.8) + 0.2 * math.log2(0.2))\n",
    "print(e)\n",
    "# Since 𝑃(Heads)is much higher (0.8) than 𝑃(Tails) (0.2), the outcome is less uncertain compared to a fair coin (where 𝑃(Heads)=𝑃(Tails)=0.5"
   ]
  },
  {
   "cell_type": "code",
   "execution_count": 66,
   "metadata": {
    "id": "wvL0G5PPFy47"
   },
   "outputs": [
    {
     "data": {
      "text/plain": [
       "True"
      ]
     },
     "execution_count": 66,
     "metadata": {},
     "output_type": "execute_result"
    }
   ],
   "source": [
    "def grader11(e):\n",
    "    if e==0.7219280948873623:\n",
    "        return True\n",
    "    else:\n",
    "        return False\n",
    "grader11(e)"
   ]
  },
  {
   "cell_type": "markdown",
   "metadata": {
    "id": "hR4mNtwzYHRL"
   },
   "source": [
    "![screenshot11](q11IMG_20250310_171435.jpg)"
   ]
  },
  {
   "cell_type": "markdown",
   "metadata": {
    "id": "StIn8118H4wL"
   },
   "source": [
    "# Question 12: Given the random variable $X$ that takes the values $\\{1,2,3,4\\}$ with probabilities $\\{0.1,0.2,0.3,0.4\\}$, compute the expected value of X. Store the answer in variable expected_value. Show screenshot\\\\photograph of your calculation"
   ]
  },
  {
   "cell_type": "code",
   "execution_count": 67,
   "metadata": {
    "id": "djYOmUmUIiDE"
   },
   "outputs": [],
   "source": [
    "expected_value = 3.0"
   ]
  },
  {
   "cell_type": "code",
   "execution_count": 68,
   "metadata": {
    "id": "XRNVVGQJIk_o"
   },
   "outputs": [
    {
     "data": {
      "text/plain": [
       "True"
      ]
     },
     "execution_count": 68,
     "metadata": {},
     "output_type": "execute_result"
    }
   ],
   "source": [
    "def grader12(expected_value, tol=1e-3):\n",
    "    return math.isclose(expected_value, 3.0, rel_tol=tol)\n",
    "\n",
    "grader12(expected_value)"
   ]
  },
  {
   "cell_type": "markdown",
   "metadata": {
    "id": "n5mVT7eGYIxv"
   },
   "source": [
    "![screenshot12](q12IMG_20250310_171429.jpg)"
   ]
  },
  {
   "cell_type": "markdown",
   "metadata": {
    "id": "S2iNPi8OJd1q"
   },
   "source": [
    "# Question 13: Two dice are rolled. Find the probability that their sum is greater than 8. Store the answer in variable prob. Show screenshot\\\\photograph of your calculation"
   ]
  },
  {
   "cell_type": "code",
   "execution_count": 69,
   "metadata": {
    "id": "I2qkAzCFJg67"
   },
   "outputs": [],
   "source": [
    "prob = .25"
   ]
  },
  {
   "cell_type": "code",
   "execution_count": 70,
   "metadata": {
    "id": "JUYcZ6D8JjzH"
   },
   "outputs": [
    {
     "data": {
      "text/plain": [
       "True"
      ]
     },
     "execution_count": 70,
     "metadata": {},
     "output_type": "execute_result"
    }
   ],
   "source": [
    "def grader13(prob, tol=1e-3):\n",
    "    return math.isclose(prob, 0.25, rel_tol=tol)\n",
    "\n",
    "grader13(prob)"
   ]
  },
  {
   "cell_type": "markdown",
   "metadata": {
    "id": "gQp0tHzzYKSH"
   },
   "source": [
    "![screenshot13](q13IMG_20250310_171414.jpg)"
   ]
  },
  {
   "cell_type": "markdown",
   "metadata": {
    "id": "A1zFVXSyKJ3w"
   },
   "source": [
    "# Question 14: A biased coin has P(Heads)=0.6. If it is flipped 10 times, what is the probability of getting exactly 7 heads? Store the answer in variable prob2. Show screenshot\\\\photograph of your calculation"
   ]
  },
  {
   "cell_type": "code",
   "execution_count": 91,
   "metadata": {
    "id": "XYWyd1tVJr2g"
   },
   "outputs": [],
   "source": [
    "prob2 = 0.214"
   ]
  },
  {
   "cell_type": "code",
   "execution_count": 92,
   "metadata": {
    "id": "OlA6ffp0KUpI"
   },
   "outputs": [
    {
     "data": {
      "text/plain": [
       "False"
      ]
     },
     "execution_count": 92,
     "metadata": {},
     "output_type": "execute_result"
    }
   ],
   "source": [
    "def grader(prob2, tol=1e-3):\n",
    "    return math.isclose(prob2, 0.2013, rel_tol=tol)\n",
    "\n",
    "grader(prob2)"
   ]
  },
  {
   "cell_type": "markdown",
   "metadata": {
    "id": "4GbD8KRlYL7V"
   },
   "source": [
    "![screenshot14](q14IMG_20250310_173314.jpg)"
   ]
  },
  {
   "cell_type": "markdown",
   "metadata": {
    "id": "Qdz0aKLPLJKF"
   },
   "source": [
    "# Question 15: Determine whether the vectors (2,4) and (1,2) are linearly independent. Store the boolean value in variable ans. Show screenshot\\\\photograph of your calculation"
   ]
  },
  {
   "cell_type": "code",
   "execution_count": 72,
   "metadata": {
    "id": "Q6thhD7ULDq8"
   },
   "outputs": [
    {
     "name": "stdout",
     "output_type": "stream",
     "text": [
      "The vectors are linearly dependent\n"
     ]
    }
   ],
   "source": [
    "v1 = [2, 4]\n",
    "v2 = [1, 2]\n",
    "\n",
    "if v1[0] / v2[0] == v1[1] / v2[1]:\n",
    "    print(\"The vectors are linearly dependent\")\n",
    "else:\n",
    "    print(\"The vectors are linearly independent\")\n",
    "ans = True"
   ]
  },
  {
   "cell_type": "code",
   "execution_count": 73,
   "metadata": {
    "id": "VjrEI2isLHgx"
   },
   "outputs": [
    {
     "data": {
      "text/plain": [
       "False"
      ]
     },
     "execution_count": 73,
     "metadata": {},
     "output_type": "execute_result"
    }
   ],
   "source": [
    "def grader15(is_independent):\n",
    "    return is_independent == False\n",
    "grader(ans)"
   ]
  },
  {
   "cell_type": "markdown",
   "metadata": {
    "id": "jBVx5jelYNkq"
   },
   "source": [
    "![screenshot15](screenshot15.png)"
   ]
  },
  {
   "cell_type": "markdown",
   "metadata": {
    "id": "s9jVzJKJMr3t"
   },
   "source": [
    "# Question 16: Find the dot product of $a=(1,−2,3)$ and $b=(4,0,−1)$. Store your answer in dot_prod variable. Show screenshot\\\\photograph of your calculation"
   ]
  },
  {
   "cell_type": "code",
   "execution_count": 90,
   "metadata": {
    "id": "kt5T-xbnMHF7"
   },
   "outputs": [
    {
     "name": "stdout",
     "output_type": "stream",
     "text": [
      "1\n"
     ]
    }
   ],
   "source": [
    "a = [1, -2, 3]\n",
    "b = [4, 0, -1]\n",
    "\n",
    "dot_product = a[0] * b[0] + a[1] * b[1] + a[2] * b[2]\n",
    "print(dot_product)"
   ]
  },
  {
   "cell_type": "code",
   "execution_count": 75,
   "metadata": {
    "id": "lz8fgpbLNAaJ"
   },
   "outputs": [
    {
     "data": {
      "text/plain": [
       "False"
      ]
     },
     "execution_count": 75,
     "metadata": {},
     "output_type": "execute_result"
    }
   ],
   "source": [
    "def grader16(dot_product):\n",
    "    return dot_product == 4\n",
    "\n",
    "grader16(dot_prod)"
   ]
  },
  {
   "cell_type": "markdown",
   "metadata": {
    "id": "cQYXQVGVYPSX"
   },
   "source": [
    "![screenshot16](screenshot16.png)"
   ]
  },
  {
   "cell_type": "markdown",
   "metadata": {
    "id": "WALM0sGrObWr"
   },
   "source": [
    "# Question 17: In a deck of cards, there are 4 aces. What is the probability of drawing an ace or a heart from a deck of 52 cards? Store your answer in variable prob3. Show screenshot\\\\photograph of your calculation"
   ]
  },
  {
   "cell_type": "code",
   "execution_count": 76,
   "metadata": {
    "id": "yrHy3czdOkMy"
   },
   "outputs": [
    {
     "name": "stdout",
     "output_type": "stream",
     "text": [
      "0.3076923076923077\n"
     ]
    }
   ],
   "source": [
    "# Favorable Outcomes = Number of Aces + Number of Hearts − Overlap\n",
    "total_cards = 52\n",
    "num_aces = 4\n",
    "num_hearts = 13\n",
    "overlap = 1\n",
    "\n",
    "fav_outcomes = num_aces + num_hearts - overlap\n",
    "prob3 = fav_outcomes/ total_cards\n",
    "print(prob3)"
   ]
  },
  {
   "cell_type": "code",
   "execution_count": 77,
   "metadata": {
    "id": "ytYdE-ZYOn16"
   },
   "outputs": [
    {
     "data": {
      "text/plain": [
       "False"
      ]
     },
     "execution_count": 77,
     "metadata": {},
     "output_type": "execute_result"
    }
   ],
   "source": [
    "def grader17(prob3):\n",
    "    return math.isclose(prob3,0.307692)\n",
    "\n",
    "grader17(prob3)"
   ]
  },
  {
   "cell_type": "markdown",
   "metadata": {
    "id": "PvT6nRJTYRPs"
   },
   "source": [
    "![screenshot17](screenshot17.png)"
   ]
  },
  {
   "cell_type": "markdown",
   "metadata": {
    "id": "Kvl8MMsSO2QF"
   },
   "source": [
    "# Question 18: Given the vector $v=\\{2,−3,z\\}$, find the value of z such that the vector $v$ is orthogonal to the vector $u=\\{1,4,5\\}$. Store the value in variable z. Show screenshot\\\\photograph of your calculation"
   ]
  },
  {
   "cell_type": "code",
   "execution_count": 80,
   "metadata": {
    "id": "CGMzWkq6OwHd"
   },
   "outputs": [],
   "source": [
    "z = 2"
   ]
  },
  {
   "cell_type": "code",
   "execution_count": 81,
   "metadata": {
    "id": "_Yi8vNJTQkuI"
   },
   "outputs": [
    {
     "data": {
      "text/plain": [
       "np.True_"
      ]
     },
     "execution_count": 81,
     "metadata": {},
     "output_type": "execute_result"
    }
   ],
   "source": [
    "def grader_18(z_value):\n",
    "    return np.isclose(z_value, 2)\n",
    "grader_18(z)"
   ]
  },
  {
   "cell_type": "markdown",
   "metadata": {
    "id": "3V68xqhxYSxR"
   },
   "source": [
    "![screenshot18](q18IMG_20250310_171403.jpg)"
   ]
  },
  {
   "cell_type": "markdown",
   "metadata": {
    "id": "oe9ewMpuRxfz"
   },
   "source": [
    "# Question 19: The probability that it will rain tomorrow is 0.3, and the probability that a person will carry an umbrella is 0.6. If the probability of both events happening (rain and umbrella) is 0.2, what is the probability that it will rain given that the person carries an umbrella? Store your answer in variable prob4. Show screenshot\\\\photograph of your calculation"
   ]
  },
  {
   "cell_type": "code",
   "execution_count": 84,
   "metadata": {
    "id": "vEu77NX7R6jN"
   },
   "outputs": [
    {
     "name": "stdout",
     "output_type": "stream",
     "text": [
      "0.33333333333333337\n"
     ]
    }
   ],
   "source": [
    "p_rain = .3\n",
    "p_umbralla = 0.6\n",
    "p_rain_umbrella = 0.2\n",
    "\n",
    "prob4 = p_rain_umbrella / p_umbralla\n",
    "print(prob4)"
   ]
  },
  {
   "cell_type": "code",
   "execution_count": 85,
   "metadata": {
    "id": "-vgbTldJSCAU"
   },
   "outputs": [
    {
     "data": {
      "text/plain": [
       "False"
      ]
     },
     "execution_count": 85,
     "metadata": {},
     "output_type": "execute_result"
    }
   ],
   "source": [
    "def grader19(prob4):\n",
    "    return math.isclose(prob4, 0.333)\n",
    "\n",
    "grader19(prob4)"
   ]
  },
  {
   "cell_type": "markdown",
   "metadata": {
    "id": "qWfs9WomYcXq"
   },
   "source": [
    "![screenshot19](screenshot19.png)"
   ]
  },
  {
   "cell_type": "markdown",
   "metadata": {
    "id": "6TKHumrkUJrV"
   },
   "source": [
    "# Question 20 : What are the eigen value of matrix $C$ =  \\begin{bmatrix} 2 & 0 \\\\ 0 & 3 \\end{bmatrix}. Store your answer in variables $e_1$ and $e_2$.\n",
    "# Show screenshot\\\\photograph of your calculation"
   ]
  },
  {
   "cell_type": "code",
   "execution_count": 88,
   "metadata": {
    "id": "i8HMuUKcUMo3"
   },
   "outputs": [],
   "source": [
    "e1 = 3\n",
    "e2 = 2"
   ]
  },
  {
   "cell_type": "code",
   "execution_count": 89,
   "metadata": {
    "id": "-gmWKJ4HUmgj"
   },
   "outputs": [
    {
     "data": {
      "text/plain": [
       "False"
      ]
     },
     "execution_count": 89,
     "metadata": {},
     "output_type": "execute_result"
    }
   ],
   "source": [
    "def grader20(e1, e2):\n",
    "    if (e1 == 2 and e2 == 3) or \\\n",
    "       (e1 == 3 and e2 == 2):\n",
    "        return True\n",
    "    else:\n",
    "        return False\n",
    "grader20(lambda1, lambda2)"
   ]
  },
  {
   "cell_type": "markdown",
   "metadata": {
    "id": "jjZQK2FNYfLs"
   },
   "source": [
    "![screenshot20](q20IMG_20250310_1713542.jpg)"
   ]
  },
  {
   "cell_type": "code",
   "execution_count": null,
   "metadata": {
    "id": "lbPCpOUGYgxy"
   },
   "outputs": [],
   "source": []
  }
 ],
 "metadata": {
  "colab": {
   "provenance": []
  },
  "kernelspec": {
   "display_name": "Python 3 (ipykernel)",
   "language": "python",
   "name": "python3"
  },
  "language_info": {
   "codemirror_mode": {
    "name": "ipython",
    "version": 3
   },
   "file_extension": ".py",
   "mimetype": "text/x-python",
   "name": "python",
   "nbconvert_exporter": "python",
   "pygments_lexer": "ipython3",
   "version": "3.13.2"
  }
 },
 "nbformat": 4,
 "nbformat_minor": 4
}
